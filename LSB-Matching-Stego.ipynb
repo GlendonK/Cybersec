{
 "cells": [
  {
   "cell_type": "code",
   "execution_count": 22,
   "metadata": {},
   "outputs": [
    {
     "name": "stdout",
     "output_type": "stream",
     "text": [
      "Extracting ... \n",
      "Completed\n"
     ]
    }
   ],
   "source": [
    "#!/usr/bin/python\n",
    "\n",
    "import sys\n",
    "import cv2\n",
    "import numpy as np\n",
    "import random\n",
    "\n",
    "def extract():\n",
    "    J=cv2.imread('stego_image.PNG')\n",
    "    f = open('output_payload.txt', 'w+', errors=\"ignore\")\n",
    "\n",
    "    idx=0\n",
    "    bitidx=0\n",
    "    bitval=0\n",
    "    original =0\n",
    "    for i in range(J.shape[0]):\n",
    "        if (I[i, 0, 0] == '-'):\n",
    "            break\n",
    "        for j in range(J.shape[1]):\n",
    "            for k in range(3):\n",
    "                if (I[i, j, k] == '-'):\n",
    "                    break\n",
    "                if bitidx==8 and bitval == original:\n",
    "                    break\n",
    "                elif bitidx==8 and bitval != original:\n",
    "                    f.write(chr(bitval))\n",
    "                    bitidx=0\n",
    "                    bitval=0\n",
    "                \n",
    "                bitval |= (I[i, j, k]%2)<<bitidx\n",
    "                original |= (J[i, j, k]%2)<<bitidx\n",
    "                bitidx+=1\n",
    "\n",
    "    f.close()\n",
    "\n",
    "\n",
    "bits=[]\n",
    "f=open('testword.txt', 'r')\n",
    "blist = [ord(b) for b in f.read()]\n",
    "for b in blist:\n",
    "    for i in range(8):\n",
    "        bits.append((b >> i) & 1)\n",
    "\n",
    "I = np.asarray(cv2.imread('stego_image.PNG'))\n",
    "\n",
    "\n",
    "sign=[1,-1]\n",
    "idx=0\n",
    "for i in range(I.shape[0]):\n",
    "    for j in range(I.shape[1]):\n",
    "        for k in range(3):\n",
    "            if idx<len(bits):\n",
    "                if I[i][j][k]%2 != bits[idx]:\n",
    "                    s=sign[random.randint(0, 1)]\n",
    "                    if I[i][j][k]==0: s=1\n",
    "                    if I[i][j][k]==255: s=-1\n",
    "                    I[i][j][k]+=s\n",
    "                idx+=1\n",
    "\n",
    "cv2.imwrite('encoded_image.PNG', I)\n",
    "\n",
    "print(\"Extracting ... \")\n",
    "extract()\n",
    "print(\"Completed\")"
   ]
  },
  {
   "cell_type": "code",
   "execution_count": null,
   "metadata": {},
   "outputs": [],
   "source": []
  },
  {
   "cell_type": "code",
   "execution_count": null,
   "metadata": {},
   "outputs": [],
   "source": []
  }
 ],
 "metadata": {
  "kernelspec": {
   "display_name": "Python 3",
   "language": "python",
   "name": "python3"
  },
  "language_info": {
   "codemirror_mode": {
    "name": "ipython",
    "version": 3
   },
   "file_extension": ".py",
   "mimetype": "text/x-python",
   "name": "python",
   "nbconvert_exporter": "python",
   "pygments_lexer": "ipython3",
   "version": "3.7.3"
  }
 },
 "nbformat": 4,
 "nbformat_minor": 4
}
